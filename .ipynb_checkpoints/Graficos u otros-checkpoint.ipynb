{
 "cells": [
  {
   "cell_type": "markdown",
   "id": "e9bf851c",
   "metadata": {},
   "source": [
    "Notas:\n",
    "--------\n",
    " Graficos de Tortas con la cantidad de clientes por segmento.\n"
   ]
  },
  {
   "cell_type": "markdown",
   "id": "48cc505f",
   "metadata": {
    "heading_collapsed": true
   },
   "source": [
    "# Inicio\n",
    "[Sintaxis Markdown](https://www.markdownguide.org/basic-syntax/)\n",
    "\n",
    "\n",
    "Se puede realizar un modelo jerarquico que considere como grupo la `Zona de reparto`\n",
    "\n",
    "Para evaluar la importancia de las variables de debe usar un modelo de regresion que entrege el valor P de los atributos del modelo.\n",
    "\n",
    "Se puede evaluar si efectivamente stat  model entgrega el [Valor -p ](https://www.cluzters.ai/forums/topic/395/find-p-value-significance-in-scikit-learn-linear-regression?c=1597)\n",
    "\n",
    "Ademas de ver si es necesario trasformar las variables a variables tipo dummy\n",
    "\n",
    "\n"
   ]
  },
  {
   "cell_type": "code",
   "execution_count": 1,
   "id": "a0737e98",
   "metadata": {
    "hidden": true
   },
   "outputs": [],
   "source": [
    "#===================================\n",
    "# Archivo\n",
    "#===================================\n",
    "Zona_df='Z001'\n",
    "\n",
    "# Ordenador de escritorio\n",
    "\"\"\"\n",
    "file_direct_O=\"C:/Users/user/Documents/Data/Data Clear/\"+Zona_df+\"/\"\n",
    "file_direct_Clear=\"C:/Users/user/Documents/Data/Data Clear/\"\n",
    "file_direct_Graphic='C:/Users/user/Documents/Graficos'\n",
    "\"\"\"\n",
    "\n",
    "#Notebook\n",
    "file_direct_O=\"C:/Users/rolft/Documents/Repositorios/Data/Data Clear/\"+Zona_df+\"/\"\n",
    "file_direct_Clear=\"C:/Users/rolft/Documents/Repositorios/Data/Data Clear/\"\n",
    "file_direct_Graphic='C:/Users/rolft/Documents/Repositorios/Graficos'\n",
    "\n",
    "#===================================\n",
    "# Clientes\n",
    "#===================================\n",
    "Tipo_de_Cliente='Tradicional'\n",
    "\n",
    "#===================================\n",
    "# Producto de interes\n",
    "#===================================\n",
    "Y_producto='1010078'\n",
    "\n",
    "\n",
    "#===================================\n",
    "# Año de Partida\n",
    "#===================================\n",
    "Año_inicio='2018'"
   ]
  },
  {
   "cell_type": "code",
   "execution_count": 2,
   "id": "673f755b",
   "metadata": {
    "hidden": true
   },
   "outputs": [],
   "source": [
    "#!jt -l\n",
    "#!jt -t oceans16 -T"
   ]
  },
  {
   "cell_type": "markdown",
   "id": "f80e374d",
   "metadata": {
    "heading_collapsed": true,
    "hidden": true
   },
   "source": [
    "## Intalar paquetes, Abrir data y ajustarla "
   ]
  },
  {
   "cell_type": "markdown",
   "id": "6a7c4706",
   "metadata": {
    "heading_collapsed": true,
    "hidden": true
   },
   "source": [
    "### import"
   ]
  },
  {
   "cell_type": "code",
   "execution_count": 3,
   "id": "0ea91ad7",
   "metadata": {
    "hidden": true
   },
   "outputs": [],
   "source": [
    "#=====================================================\n",
    "                # BASE \n",
    "#-----------------------------------------------------\n",
    "import pandas as pd\n",
    "import numpy as np\n",
    "import matplotlib.pyplot as plt\n",
    "\n",
    "#from geopandas import *\n",
    "\n",
    "from plotnine import *\n",
    "\n",
    "#para ajustar las fechas\n",
    "import datetime\n",
    "\n",
    "#para calcular el skew de un array() o list()\n",
    "from scipy.stats import skew "
   ]
  },
  {
   "cell_type": "code",
   "execution_count": 4,
   "id": "8916d4cd",
   "metadata": {
    "hidden": true
   },
   "outputs": [],
   "source": [
    "#=====================================================\n",
    "                # sklearn \n",
    "#-----------------------------------------------------\n",
    "\n",
    "#Separador de datos en train/test\n",
    "from sklearn.model_selection import train_test_split\n",
    "\n",
    "#Prediccion Ridge Regression\n",
    "from sklearn.linear_model import Ridge"
   ]
  },
  {
   "cell_type": "code",
   "execution_count": 5,
   "id": "8d82be85",
   "metadata": {
    "hidden": true
   },
   "outputs": [],
   "source": [
    "#=====================================================\n",
    "                # statsmodels \n",
    "#-----------------------------------------------------\n",
    "import statsmodels.api as sm\n",
    "import statsmodels.formula.api as smf\n",
    "from statsmodels.tools.sm_exceptions import ConvergenceWarning\n",
    "\n",
    "\n",
    "#from statsmodels.regression.mixed_linear_model import MixedLMResults\n",
    "# No se para qué sirve este"
   ]
  },
  {
   "cell_type": "code",
   "execution_count": 6,
   "id": "734ff701",
   "metadata": {
    "hidden": true
   },
   "outputs": [],
   "source": [
    "#====================================================\n",
    "#librerias para crear division de series temporales\n",
    "#====================================================\n",
    "\n",
    "from mizani.breaks import date_breaks\n",
    "from mizani.formatters import date_format"
   ]
  },
  {
   "cell_type": "code",
   "execution_count": 7,
   "id": "34160d20",
   "metadata": {
    "hidden": true
   },
   "outputs": [],
   "source": [
    "# stopwatch\n",
    "import time\n",
    "def time_convert(sec):\n",
    "  mins = sec // 60\n",
    "  sec = sec % 60\n",
    "  hours = mins // 60\n",
    "  mins = mins % 60\n",
    "  print(\"Time Lapsed = {0}:{1}:{2}\".format(int(hours),int(mins),sec),'\\n H:m:s')\n",
    "#==================================\n",
    "#          Example\n",
    "#    input(\"Press Enter to start\")\n",
    "#    start_time = time.time()\n",
    "#    input(\"Press Enter to stop\")\n",
    "#    end_time = time.time()\n",
    "#    time_lapsed = end_time - start_time\n",
    "#    time_convert(time_lapsed)\n",
    "#================================="
   ]
  },
  {
   "cell_type": "markdown",
   "id": "0e0194b5",
   "metadata": {
    "hidden": true
   },
   "source": [
    "### Funciones "
   ]
  },
  {
   "cell_type": "code",
   "execution_count": 8,
   "id": "ad8627c9",
   "metadata": {
    "hidden": true
   },
   "outputs": [],
   "source": [
    "#===================================\n",
    "# Dicionario MES\n",
    "#===================================\n",
    "\n",
    "#===================================\n",
    "# Fecha\n",
    "D=['Enero','Febrero','Marzo','Abril',\n",
    " 'Mayo','Junio','Julio','Agosto',\n",
    " 'Septiembre','Octubre',\n",
    " 'Noviembre','Diciembre']\n",
    "Month_dic={i:D[i-1]  for i in range(1,13)}\n",
    "#===========================================\n",
    "\n",
    "\n",
    "def Mes_name(x):\n",
    "    D=['Enero','Febrero','Marzo','Abril',\n",
    "    'Mayo','Junio','Julio','Agosto',\n",
    "    'Septiembre','Octubre',\n",
    "    'Noviembre','Diciembre']\n",
    "    return(D[int(x)-1])"
   ]
  },
  {
   "cell_type": "code",
   "execution_count": 9,
   "id": "1462c79c",
   "metadata": {
    "hidden": true
   },
   "outputs": [],
   "source": [
    "#data_i.Mes.apply(Mes_name)"
   ]
  },
  {
   "cell_type": "markdown",
   "id": "b8b67d6b",
   "metadata": {
    "hidden": true
   },
   "source": [
    "## Datos  \n",
    "Se cargan los datos de\n",
    "Ventas y la defincion de los productos\n",
    "Ventas está en `data_v` y despues pasa a ser `data`\n",
    "\n",
    "Productos estan cargados en `DF_products`\n"
   ]
  },
  {
   "cell_type": "markdown",
   "id": "7b6b6d72",
   "metadata": {
    "hidden": true
   },
   "source": [
    "####  DF_FULL"
   ]
  },
  {
   "cell_type": "code",
   "execution_count": 10,
   "id": "d3f89b2c",
   "metadata": {
    "hidden": true
   },
   "outputs": [
    {
     "data": {
      "text/html": [
       "<div>\n",
       "<style scoped>\n",
       "    .dataframe tbody tr th:only-of-type {\n",
       "        vertical-align: middle;\n",
       "    }\n",
       "\n",
       "    .dataframe tbody tr th {\n",
       "        vertical-align: top;\n",
       "    }\n",
       "\n",
       "    .dataframe thead th {\n",
       "        text-align: right;\n",
       "    }\n",
       "</style>\n",
       "<table border=\"1\" class=\"dataframe\">\n",
       "  <thead>\n",
       "    <tr style=\"text-align: right;\">\n",
       "      <th></th>\n",
       "      <th>Zona de ventas</th>\n",
       "      <th>Zona de ventas.1</th>\n",
       "      <th>Cliente</th>\n",
       "      <th>Cliente.1</th>\n",
       "      <th>Cliente - Local</th>\n",
       "      <th>Cliente - Local.1</th>\n",
       "      <th>Material</th>\n",
       "      <th>Día natural</th>\n",
       "      <th>Kilos Venta KG</th>\n",
       "      <th>Venta Neta</th>\n",
       "      <th>...</th>\n",
       "      <th>Tipo de material.1</th>\n",
       "      <th>Marca</th>\n",
       "      <th>Nivel 2</th>\n",
       "      <th>Granel/Envasado</th>\n",
       "      <th>Marinado</th>\n",
       "      <th>Nivel 3</th>\n",
       "      <th>Grupo artículos</th>\n",
       "      <th>Estado</th>\n",
       "      <th>Estandar</th>\n",
       "      <th>Envase</th>\n",
       "    </tr>\n",
       "  </thead>\n",
       "  <tbody>\n",
       "    <tr>\n",
       "      <th>0</th>\n",
       "      <td>Z001</td>\n",
       "      <td>Santiago</td>\n",
       "      <td>10003742</td>\n",
       "      <td>Ferrer Leiva Sonia</td>\n",
       "      <td>Ferrer Leiva Sonia</td>\n",
       "      <td>38458</td>\n",
       "      <td>1010077</td>\n",
       "      <td>2018-02-09</td>\n",
       "      <td>12.0</td>\n",
       "      <td>13685.0</td>\n",
       "      <td>...</td>\n",
       "      <td>Prod. Term.  Ave</td>\n",
       "      <td>SUPER POLLO (SP)</td>\n",
       "      <td>Trutro</td>\n",
       "      <td>GRANEL</td>\n",
       "      <td>MARINADO</td>\n",
       "      <td>Trutro Entero</td>\n",
       "      <td>01050</td>\n",
       "      <td>REFRIGERADO</td>\n",
       "      <td>PESO VARIABLE</td>\n",
       "      <td>NO CONGELADO</td>\n",
       "    </tr>\n",
       "  </tbody>\n",
       "</table>\n",
       "<p>1 rows × 40 columns</p>\n",
       "</div>"
      ],
      "text/plain": [
       "  Zona de ventas Zona de ventas.1   Cliente           Cliente.1  \\\n",
       "0           Z001         Santiago  10003742  Ferrer Leiva Sonia   \n",
       "\n",
       "      Cliente - Local Cliente - Local.1 Material Día natural Kilos Venta KG  \\\n",
       "0  Ferrer Leiva Sonia             38458  1010077  2018-02-09           12.0   \n",
       "\n",
       "  Venta Neta  ... Tipo de material.1             Marca Nivel 2  \\\n",
       "0    13685.0  ...   Prod. Term.  Ave  SUPER POLLO (SP)  Trutro   \n",
       "\n",
       "  Granel/Envasado  Marinado        Nivel 3 Grupo artículos       Estado  \\\n",
       "0          GRANEL  MARINADO  Trutro Entero           01050  REFRIGERADO   \n",
       "\n",
       "        Estandar        Envase  \n",
       "0  PESO VARIABLE  NO CONGELADO  \n",
       "\n",
       "[1 rows x 40 columns]"
      ]
     },
     "execution_count": 10,
     "metadata": {},
     "output_type": "execute_result"
    }
   ],
   "source": [
    "#======================================================================\n",
    "# Se Cargan los datos de ventas con las caracteristicas de los clientes\n",
    "#=====================================================================\n",
    "\n",
    "file_direct=file_direct_O+'Ventas_Full'+'.csv'\n",
    "col_names=pd.read_csv(file_direct,\n",
    "                      encoding=\"utf-8\",sep=\";\",nrows=0).columns\n",
    "\n",
    "types_dict = {col: str for col in list(col_names)}\n",
    "\n",
    "DF_FULL = pd.read_csv(file_direct,\n",
    "                   encoding=\"utf-8\",sep=\";\",dtype=types_dict)\n",
    "#elimina una columna en especifico\n",
    "#DF_FULL.drop('Año natural', inplace=True, axis=1)\n",
    "DF_FULL.head(1)"
   ]
  },
  {
   "cell_type": "markdown",
   "id": "50978acc",
   "metadata": {
    "hidden": true
   },
   "source": [
    "#### Funcion"
   ]
  },
  {
   "cell_type": "code",
   "execution_count": 11,
   "id": "d97d256e",
   "metadata": {
    "hidden": true
   },
   "outputs": [],
   "source": [
    "# =============================================================================\n",
    "# Ajustar la data\n",
    "# =============================================================================\n",
    "def Ajuste_data(data):\n",
    "    start_time = time.time()\n",
    "\n",
    "    df=data.copy()\n",
    "\n",
    "# =================================\n",
    "# ELiminare dodos los valores Nan\n",
    "# =================================\n",
    "    #for i in df.columns.to_list():\n",
    "    #    df=df[df[i].notna()]\n",
    "\n",
    "#=================================\n",
    "# Proceso iterativo Pasar a numero\n",
    "#=================================\n",
    "\n",
    "    for i in ['Kilos Venta KG','Venta Neta','Precio Promedio']:\n",
    "        df[i]=df[i].astype('float64').astype('int64')\n",
    "        \n",
    "#=================================\n",
    "# Agregar nombre al codigo del producto\n",
    "#=================================\n",
    "    def material_name(x):\n",
    "        s1=str(x['Material'])\n",
    "        s2=str(x['Nivel 4.1'])\n",
    "        return(s1+'('+s2+')')\n",
    "    df['Material (Nombre)']=df.apply(lambda x:  material_name(x), axis=1)\n",
    "    \n",
    "\n",
    "\n",
    "#==========================================================================================\n",
    "# Ajuste de las fechas\n",
    "#-----------------------------------------------------------------------------------------\n",
    "    df[\"Día natural\"] = df[\"Día natural\"].apply(lambda x: \n",
    "                                                datetime.datetime.strptime(str(x),\n",
    "                                                                           '%Y-%m-%d').date())\n",
    "    \n",
    "    #Separacion fecha\n",
    "    \n",
    "    #df['Semana']=df[\"Día natural\"].apply(lambda x: x.isocalendar()[1] )\n",
    "    #df['Mes']=df[\"Día natural\"].apply(lambda x: x.month)\n",
    "    #df['Año']=df[\"Día natural\"].apply(lambda x: x.year)\n",
    "    #df['Semana']=df['Semana'].astype('int64')\n",
    "    df['Año']=df['Año'].astype('int64')\n",
    "    D_W=['Lunes','Martes','Miércoles','Jueves', 'Viernes','Sábado','Domingo']\n",
    "    df['Día Semana']=df[\"Día natural\"].apply(lambda x: D_W[x.isocalendar()[2] -1])\n",
    "    df=df[df['Día Semana']!='Domingo']\n",
    "    \n",
    "    DF_FULL.dtypes\n",
    "    end_time = time.time()\n",
    "    time_convert(end_time - start_time)\n",
    "    return df"
   ]
  },
  {
   "cell_type": "code",
   "execution_count": 12,
   "id": "d6ca58ea",
   "metadata": {
    "hidden": true,
    "scrolled": true
   },
   "outputs": [
    {
     "name": "stdout",
     "output_type": "stream",
     "text": [
      "Time Lapsed = 0:0:28.5155029296875 \n",
      " H:m:s\n"
     ]
    },
    {
     "data": {
      "text/plain": [
       "Zona de ventas          object\n",
       "Zona de ventas.1        object\n",
       "Cliente                 object\n",
       "Cliente.1               object\n",
       "Cliente - Local         object\n",
       "Cliente - Local.1       object\n",
       "Material                object\n",
       "Día natural             object\n",
       "Kilos Venta KG           int64\n",
       "Venta Neta               int64\n",
       "Precio Promedio          int64\n",
       "Frecuencia Historica    object\n",
       "Centro                  object\n",
       "Centro.1                object\n",
       "Población               object\n",
       "Tipo de cliente         object\n",
       "Cluster                 object\n",
       "Segmento                object\n",
       "Segmento.1              object\n",
       "Categoría Cliente       object\n",
       "Zona de reparto         object\n",
       "Año Creación            object\n",
       "Material Favorito       object\n",
       "Semana                  object\n",
       "Mes                     object\n",
       "Año                      int64\n",
       "Nivel 4                 object\n",
       "Nivel 4.1               object\n",
       "Sector                  object\n",
       "Tipo de material        object\n",
       "Tipo de material.1      object\n",
       "Marca                   object\n",
       "Nivel 2                 object\n",
       "Granel/Envasado         object\n",
       "Marinado                object\n",
       "Nivel 3                 object\n",
       "Grupo artículos         object\n",
       "Estado                  object\n",
       "Estandar                object\n",
       "Envase                  object\n",
       "Material (Nombre)       object\n",
       "Día Semana              object\n",
       "dtype: object"
      ]
     },
     "execution_count": 12,
     "metadata": {},
     "output_type": "execute_result"
    }
   ],
   "source": [
    "#=====================================\n",
    "# Aplicacion del ajuste de los datos\n",
    "#=====================================\n",
    "\n",
    "data=Ajuste_data(DF_FULL)\n",
    "data[data.Año>=int(Año_inicio)]\n",
    "data.dtypes"
   ]
  },
  {
   "cell_type": "code",
   "execution_count": 13,
   "id": "20e9b364",
   "metadata": {
    "hidden": true,
    "scrolled": true
   },
   "outputs": [
    {
     "data": {
      "text/plain": [
       "-256"
      ]
     },
     "execution_count": 13,
     "metadata": {},
     "output_type": "execute_result"
    }
   ],
   "source": [
    "#=============================\n",
    "# Se eliminaron los regristros donde existen dias domingos\n",
    "#(No hay despacho los dias domingos)\n",
    "#============================\n",
    "\n",
    "data.shape[0] - DF_FULL.shape[0]"
   ]
  },
  {
   "cell_type": "markdown",
   "id": "79f8b061",
   "metadata": {},
   "source": [
    "# Selección data_material \n",
    "\n",
    "Prediccion del producto `i_producto`\n",
    "\n",
    "data frame `data_i`\n",
    "\n",
    "Variable a predecir `Y_Variable`\n",
    "\n",
    "Columnas de interes para predecir `X_col`\n",
    "\n",
    "Diccionario del grupo de columnas `Dic_col`"
   ]
  },
  {
   "cell_type": "code",
   "execution_count": 14,
   "id": "e7939432",
   "metadata": {},
   "outputs": [
    {
     "name": "stdout",
     "output_type": "stream",
     "text": [
      "(235518, 42)\n"
     ]
    }
   ],
   "source": [
    "#==============================\n",
    "# Se define el producto\n",
    "#==============================\n",
    "i_producto=Y_producto\n",
    "data_i=data[data.Material==i_producto].copy()\n",
    "print(data_i.shape)\n"
   ]
  },
  {
   "cell_type": "markdown",
   "id": "56076fc8",
   "metadata": {},
   "source": [
    "## data "
   ]
  },
  {
   "cell_type": "code",
   "execution_count": 15,
   "id": "be9ad327",
   "metadata": {
    "scrolled": true
   },
   "outputs": [],
   "source": [
    "#=======================================================================================================\n",
    "                                                # Columnas a usar\n",
    "#========================================================================================================\n",
    "\n",
    "data_i=data_i[[\n",
    "                    #======================================   \n",
    "                                    # Base de la venta\n",
    "                    #--------------------------------------\n",
    "\n",
    "'Material (Nombre)',\n",
    "    #ID Nombre\n",
    "    \n",
    "#========================\n",
    "#Cantidad/Ingreso/Precio\n",
    "#------------------------\n",
    "'Kilos Venta KG',\n",
    "#'Venta Neta', No es necesario o de interes para la prediccion\n",
    "'Precio Promedio',\n",
    "\n",
    "#========================\n",
    "#fecha\n",
    "#------------------------\n",
    "#'Día natural', #Se descarta por series de tiempo\n",
    "    # Ver si funciona\n",
    "\n",
    "'Día Semana',\n",
    "    #lun, Mart, Mier, Juev\n",
    "'Semana',\n",
    "    #1, 2 , 3 ,..., 52, 53\n",
    "'Mes',\n",
    "    #1,2,3,...,12\n",
    "'Año',\n",
    "    #2018,2019,...,2021\n",
    "    \n",
    "    \n",
    "\n",
    "#______________________________________________________________________\n",
    "                        \n",
    "                                    # CLIENTE\n",
    "    \n",
    "#=====================================\n",
    "#Ubicacion del cliente\n",
    "#-------------------------------------\n",
    "'Población', #'Zona de reparto',\n",
    "#Comuna del Cliente ; Codigo de la zona de reparto\n",
    "#[No son excluyentes, la Zona de reparto\n",
    "#Es más especifica y agrupa a clientes]\n",
    "\n",
    "\n",
    "                #Region\n",
    "                #'Zona de ventas',\n",
    "                #'Zona de ventas.1',\n",
    "                    #(Z001: Santiago)\n",
    "\n",
    "#Es atendido por la sucursal:\n",
    "'Centro.1', #'Centro', \n",
    "    #ID Sucursal, Nombre Sucursal(oficina o centro)\n",
    "    \n",
    "#=========================================    \n",
    "#Identificacion del cliente\n",
    "#---------------------------------------\n",
    "'Cliente', #'Cliente.1',\n",
    "     #ID del cliente , #nombre del cliente\n",
    " #'Cliente - Local', 'Cliente - Local.1'\n",
    "     # Tambien funciona como ID\n",
    "         #ID, Nombre\n",
    "\n",
    "    #Agrupacion del cliente\n",
    "    #'Tipo de cliente', #SON TODOS IGUALES\n",
    "    'Cluster', \n",
    "         #Canal del cliente ; Tipo de cliente\n",
    "             #Tradicional   ; Clasico\n",
    "\n",
    "    #Nivel de cobertura\n",
    "    #'Segmento', \n",
    "     'Segmento.1',\n",
    "     #codigo ; nombre\n",
    "         #50 ; Cobertura pequeno SD\n",
    "    'Categoría Cliente',\n",
    "            #Especialista en Proc\n",
    "\n",
    "\n",
    "    #===================================================\n",
    "    #Caracteristicas Adiocinales a su consumo\n",
    "    #-------------------------------------------------\n",
    "        'Año Creación',\n",
    "            #Fecha de afiliación a Agrosuper\n",
    "             #-> Debe ser INT idealmente\n",
    "\n",
    "        'Material Favorito',\n",
    "             #ID del producto que ha comprado más frecuentemente\n",
    "             #(No por cantidad, si no que por cantidad de compras realizadas)\n",
    "                 #-> Puede ser solo el codigo o el nombre tambien\n",
    "\n",
    "        'Frecuencia Historica',\n",
    "             #Cantidad de compras realizadas desde el 2018\n",
    "                 #-> debe ser INT\n",
    "                     #-> constante para todas las compras\n",
    "                            # Al ser variable complejiza todo\n",
    " \n",
    "]]\n",
    "data_i['Frecuencia Historica']=data_i['Frecuencia Historica'].astype('int64')\n",
    "data_i['Año Creación']=data_i['Año Creación'].astype('int64')"
   ]
  },
  {
   "cell_type": "code",
   "execution_count": 16,
   "id": "b493f861",
   "metadata": {},
   "outputs": [
    {
     "data": {
      "text/plain": [
       "(235518, 16)"
      ]
     },
     "execution_count": 16,
     "metadata": {},
     "output_type": "execute_result"
    }
   ],
   "source": [
    "data_i.shape"
   ]
  },
  {
   "cell_type": "code",
   "execution_count": 17,
   "id": "a21c032d",
   "metadata": {
    "scrolled": true
   },
   "outputs": [
    {
     "data": {
      "text/html": [
       "<div>\n",
       "<style scoped>\n",
       "    .dataframe tbody tr th:only-of-type {\n",
       "        vertical-align: middle;\n",
       "    }\n",
       "\n",
       "    .dataframe tbody tr th {\n",
       "        vertical-align: top;\n",
       "    }\n",
       "\n",
       "    .dataframe thead th {\n",
       "        text-align: right;\n",
       "    }\n",
       "</style>\n",
       "<table border=\"1\" class=\"dataframe\">\n",
       "  <thead>\n",
       "    <tr style=\"text-align: right;\">\n",
       "      <th></th>\n",
       "      <th>index</th>\n",
       "      <th>Material (Nombre)</th>\n",
       "      <th>Kilos Venta KG</th>\n",
       "      <th>Precio Promedio</th>\n",
       "      <th>Día Semana</th>\n",
       "      <th>Semana</th>\n",
       "      <th>Mes</th>\n",
       "      <th>Año</th>\n",
       "      <th>Población</th>\n",
       "      <th>Centro.1</th>\n",
       "      <th>Cliente</th>\n",
       "      <th>Cluster</th>\n",
       "      <th>Segmento.1</th>\n",
       "      <th>Categoría Cliente</th>\n",
       "      <th>Año Creación</th>\n",
       "      <th>Material Favorito</th>\n",
       "      <th>Frecuencia Historica</th>\n",
       "    </tr>\n",
       "  </thead>\n",
       "  <tbody>\n",
       "    <tr>\n",
       "      <th>1</th>\n",
       "      <td>unique</td>\n",
       "      <td>1</td>\n",
       "      <td>NaN</td>\n",
       "      <td>NaN</td>\n",
       "      <td>6</td>\n",
       "      <td>53</td>\n",
       "      <td>12</td>\n",
       "      <td>NaN</td>\n",
       "      <td>46</td>\n",
       "      <td>3</td>\n",
       "      <td>6455</td>\n",
       "      <td>3</td>\n",
       "      <td>10</td>\n",
       "      <td>19</td>\n",
       "      <td>NaN</td>\n",
       "      <td>13</td>\n",
       "      <td>NaN</td>\n",
       "    </tr>\n",
       "  </tbody>\n",
       "</table>\n",
       "</div>"
      ],
      "text/plain": [
       "    index Material (Nombre)  Kilos Venta KG  Precio Promedio Día Semana  \\\n",
       "1  unique                 1             NaN              NaN          6   \n",
       "\n",
       "  Semana Mes  Año Población Centro.1 Cliente Cluster Segmento.1  \\\n",
       "1     53  12  NaN        46        3    6455       3         10   \n",
       "\n",
       "  Categoría Cliente  Año Creación Material Favorito  Frecuencia Historica  \n",
       "1                19           NaN                13                   NaN  "
      ]
     },
     "execution_count": 17,
     "metadata": {},
     "output_type": "execute_result"
    }
   ],
   "source": [
    "desc=data_i.describe(include='all').reset_index()\n",
    "desc[desc['index']=='unique']"
   ]
  },
  {
   "cell_type": "markdown",
   "id": "de023a7b",
   "metadata": {
    "heading_collapsed": true
   },
   "source": [
    "### Dicionario "
   ]
  },
  {
   "cell_type": "code",
   "execution_count": 18,
   "id": "74447145",
   "metadata": {
    "hidden": true
   },
   "outputs": [],
   "source": [
    "Dic_col={\n",
    "        'Fecha':\n",
    "                             ['Día Semana','Semana', 'Mes', 'Año'],\n",
    "        'Ubicacion':\n",
    "                             ['Población', 'Centro.1'],\n",
    "        'Cliente Categoria':\n",
    "                             ['Cluster','Segmento.1', 'Categoría Cliente'],\n",
    "        'Cliente Atributos':\n",
    "                             ['Año Creación', 'Material Favorito','Frecuencia Historica']\n",
    "         ,'Base':\n",
    "                             ['Material (Nombre)', 'Kilos Venta KG', 'Precio Promedio','Cliente']\n",
    "        }"
   ]
  },
  {
   "cell_type": "code",
   "execution_count": 19,
   "id": "cb5cfbaf",
   "metadata": {
    "hidden": true,
    "scrolled": true
   },
   "outputs": [
    {
     "name": "stdout",
     "output_type": "stream",
     "text": [
      "16\n"
     ]
    }
   ],
   "source": [
    "list_=[]\n",
    "for i in Dic_col:\n",
    "    list_+=Dic_col[i]\n",
    "print(len(list_))"
   ]
  },
  {
   "cell_type": "markdown",
   "id": "645966c7",
   "metadata": {
    "hidden": true
   },
   "source": [
    "\n",
    "__Se evalua el reemplazar la columna del material favorito__\n",
    "\n",
    "_Pero esto puede influir si el producto favorito es similar al que se esta pidiendo puede representar un aumento en el precio_\n",
    "```python\n",
    "#==================================\n",
    "# Material Favorito == i_producto\n",
    "#==================================\n",
    "\n",
    "data_i['Producto Favorito']=data_i['Material Favorito'].apply(lambda x:  x==i_producto)\n",
    "data_i[['Producto Favorito','Material Favorito']]\n",
    "```"
   ]
  },
  {
   "cell_type": "markdown",
   "id": "4638c89c",
   "metadata": {
    "heading_collapsed": true
   },
   "source": [
    "## Proceder a construir el modelo sencillo\n",
    "\n",
    "Recordar subir las librerias a la seccion de import\n",
    "\n",
    ">Modelo de regressión no Jerarquico\n",
    ">>1. Modelo con todas las variables incorporadas\n",
    "    1. Evaluar el valor P de cada una de estas\n",
    "        - Separando los valores  menos importantes\n",
    "    2. Evaluar el coeficiente de cada grupo de variables.\n",
    "2. Modelo donde se prueba cada variable de forma independiente\n",
    "    1. Evaluar el valor P de cada una de estas\n",
    "        - Separando los valores  menos importantes\n",
    "    2. Evaluar el coeficiente de cada grupo de variables.\n",
    "\n"
   ]
  },
  {
   "cell_type": "markdown",
   "id": "0ce67d0c",
   "metadata": {},
   "source": [
    "# Grafica Torta\n",
    "\n",
    "`DF_FULL` son los datos sin filtro\n",
    "\n",
    "`data` son los datos pero sin contar el año 2018\n",
    "\n",
    "\n",
    "`data.shape[0] - DF_FULL.shape[0]`"
   ]
  },
  {
   "cell_type": "code",
   "execution_count": 41,
   "id": "3536d6a9",
   "metadata": {
    "scrolled": true
   },
   "outputs": [
    {
     "name": "stdout",
     "output_type": "stream",
     "text": [
      "\n",
      " Industriales\n",
      "Clientes totales 13 \n",
      "Clientes que compraron el año 2021 13\n",
      "Salieron 0\n",
      "porcentaje 0.0\n",
      "\n",
      " Foodservice\n",
      "Clientes totales 2046 \n",
      "Clientes que compraron el año 2021 2046\n",
      "Salieron 0\n",
      "porcentaje 0.0\n",
      "\n",
      " Grandes Clientes\n",
      "Clientes totales 41 \n",
      "Clientes que compraron el año 2021 41\n",
      "Salieron 0\n",
      "porcentaje 0.0\n",
      "\n",
      " Tradicional\n",
      "Clientes totales 5460 \n",
      "Clientes que compraron el año 2021 5459\n",
      "Salieron 1\n",
      "porcentaje 0.018315018315018316\n"
     ]
    }
   ],
   "source": [
    "DF_client=DF_FULL\n",
    "#============================================\n",
    "# Datos del grafico\n",
    "#==========================================\n",
    "nombres = ['Industriales', 'Foodservice', 'Grandes Clientes', 'Tradicional'] \n",
    "#[DF_client['Tipo de cliente'].unique()[i-1] for i in range(len(DF_client['Tipo de cliente'].unique()),0,-1)]\n",
    "Cant_C_T=[]\n",
    "Cant_C_21=[]\n",
    "for i in nombres:\n",
    "    #Df del canal\n",
    "    print('\\n',i)\n",
    "    df_i=DF_client[DF_client['Tipo de cliente']==i]\n",
    "    #total\n",
    "    Cant_C_T.append(len(df_i.Cliente.unique()))\n",
    "    #2021\n",
    "    Cant_C_21.append(len(df_i[df_i['Año']=='2021'].Cliente.unique()))\n",
    "    \n",
    "    print('Clientes totales',  len(df_i.Cliente.unique()),\n",
    "          '\\nClientes que compraron el año 2021',\n",
    "          len(df_i[df_i['Año']=='2021'].Cliente.unique()))\n",
    "    \n",
    "    print('Salieron',len(df_i.Cliente.unique())-len(df_i[df_i['Año']=='2021'].Cliente.unique()))\n",
    "    print('porcentaje',(len(df_i.Cliente.unique())-\\\n",
    "          len(df_i[df_i['Año']=='2021'].Cliente.unique()))/len(df_i.Cliente.unique())*100 )"
   ]
  },
  {
   "cell_type": "code",
   "execution_count": 45,
   "id": "5d92c18d",
   "metadata": {},
   "outputs": [
    {
     "data": {
      "image/png": "[encoded data removed]",
      "text/plain": [
       "<Figure size 432x288 with 1 Axes>"
      ]
     },
     "metadata": {},
     "output_type": "display_data"
    }
   ],
   "source": [
    "import matplotlib.pyplot as plt\n",
    "manzanas=Cant_C_T\n",
    "\n",
    "\n",
    "nombres = ['Industriales', 'Foodservice', 'Grandes Clientes', 'Tradicional']\n",
    "#[DF_client['Tipo de cliente'].unique()[i-1] for i in range(len(DF_client['Tipo de cliente'].unique()),0,-1)]\n",
    "\n",
    "colores = [\"#EE6055\",\"#60D394\",\"#AAF683\",\"#FFD97D\",\"#FF9B85\"]\n",
    "\n",
    "desfase = (0, 0, 0, 0.1)\n",
    "\n",
    "plt.pie(manzanas, labels=nombres, autopct=\"%0.1f %%\", colors=colores, explode=desfase)\n",
    "plt.axis(\"equal\")\n",
    "\n",
    "plt.title('Clientes Totales ' +str(sum(manzanas)/1000)+'0' + ' Filtrados \\n Desde el 2018', y=-0.1)\n",
    "\n",
    "F_S=file_direct_Graphic+'\\Generales\\Img\\\\'\n",
    "plt.savefig(F_S+ 'Distriubución clientes Filtrados.png')"
   ]
  },
  {
   "cell_type": "code",
   "execution_count": 26,
   "id": "c6d69876",
   "metadata": {},
   "outputs": [
    {
     "data": {
      "text/plain": [
       "['Industriales', 'Grandes Clientes', 'Foodservice', 'Tradicional']"
      ]
     },
     "execution_count": 26,
     "metadata": {},
     "output_type": "execute_result"
    }
   ],
   "source": [
    "nombres"
   ]
  },
  {
   "cell_type": "code",
   "execution_count": null,
   "id": "435b5095",
   "metadata": {},
   "outputs": [],
   "source": []
  }
 ],
 "metadata": {
  "kernelspec": {
   "display_name": "Python 3",
   "language": "python",
   "name": "python3"
  },
  "language_info": {
   "codemirror_mode": {
    "name": "ipython",
    "version": 3
   },
   "file_extension": ".py",
   "mimetype": "text/x-python",
   "name": "python",
   "nbconvert_exporter": "python",
   "pygments_lexer": "ipython3",
   "version": "3.8.5"
  },
  "toc": {
   "base_numbering": 1,
   "nav_menu": {},
   "number_sections": true,
   "sideBar": true,
   "skip_h1_title": false,
   "title_cell": "Table of Contents",
   "title_sidebar": "Contents",
   "toc_cell": false,
   "toc_position": {
    "height": "calc(100% - 180px)",
    "left": "10px",
    "top": "150px",
    "width": "304.547px"
   },
   "toc_section_display": true,
   "toc_window_display": true
  }
 },
 "nbformat": 4,
 "nbformat_minor": 5
}
