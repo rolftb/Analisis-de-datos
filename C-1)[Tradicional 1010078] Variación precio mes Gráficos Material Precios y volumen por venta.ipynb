{
 "cells": [
  {
   "cell_type": "markdown",
   "id": "e9bf851c",
   "metadata": {},
   "source": [
    "Notas:\n",
    "--------\n",
    "Estoy ajustando el grafico KG, para guardarlo en un pdf con todos los graficos correspondientes al canal tradicional\n",
    "    \n",
    "- [x] Ajuste KG mensual\n",
    "- [ ] Variación del precio mensua\n",
    "- [ ] Variación del precio promedio ponderado\n",
    "- [ ] Variación del precio promedio ponderado\n",
    "- [ ] Dispersipon del precio/KG\n",
    "\n",
    "Passos siguientes:\n",
    "- Revisar el latex, para entender que pasos seguir\n",
    "- Modelo de regresión que muestra la dispesión del precio respecto al volumen\n"
   ]
  },
  {
   "cell_type": "markdown",
   "id": "48cc505f",
   "metadata": {
    "heading_collapsed": true
   },
   "source": [
    "# Inicio\n",
    "__Rename__\n",
    "Recordar que la columna llamada `Precio promedio` ahora es `Precio`\n",
    "- Presenta los parametros del modelo\n",
    "    - Dirección datos\n",
    "    - Dirección Graficos\n",
    "    - _Material a analizar_\n",
    "    - _Canal a analizar_\n",
    "    - _Zona de los Datos_\n",
    "    - _Año de inicio de analizis_\n",
    "- la Base de datos\n",
    "\n",
    "\n",
    "`Tipo_de_Cliente`\n",
    "`Y_producto`\n",
    "`Año_inicio`\n",
    "\n",
    "`file_direct_Graphic` "
   ]
  },
  {
   "cell_type": "markdown",
   "id": "8bad43fc",
   "metadata": {
    "heading_collapsed": true,
    "hidden": true
   },
   "source": [
    "## Parametros "
   ]
  },
  {
   "cell_type": "code",
   "execution_count": 1,
   "id": "a0737e98",
   "metadata": {
    "hidden": true
   },
   "outputs": [],
   "source": [
    "#===================================\n",
    "# Archivo\n",
    "#===================================\n",
    "Zona_df='Z001'\n",
    "\n",
    "#===================================\n",
    "# Clientes\n",
    "#===================================\n",
    "Tipo_de_Cliente='Tradicional'\n",
    "\n",
    "#===================================\n",
    "# Producto de interes\n",
    "#===================================\n",
    "Y_producto='1010078'\n",
    "\n",
    "\n",
    "#===================================\n",
    "# Año de Partida\n",
    "#===================================\n",
    "Año_inicio='2018'\n",
    "\n",
    "\n",
    "\n",
    "\n",
    "# Ordenador de escritorio\n",
    "\"\"\"\n",
    "file_direct_O=\"C:/Users/user/Documents/Data/Data Clear/\"+Zona_df+\"/\"\n",
    "file_direct_Clear=\"C:/Users/user/Documents/Data/Data Clear/\"\n",
    "file_direct_Graphic='C:/Users/user/Documents/Graficos'\n",
    "\"\"\"\n",
    "\n",
    "#Notebook\n",
    "file_direct_O=\"C:/Users/rolft/Documents/Repositorios/Data/Data Clear/\"+Zona_df+\"/\"\n",
    "file_direct_Clear=\"C:/Users/rolft/Documents/Repositorios/Data/Data Clear/\"\n",
    "file_direct_Graphic='C:/Users/rolft/Documents/Repositorios/Graficos'\n",
    "\n",
    "#Graficos\n",
    "file_direct_Graphic_Canal=file_direct_Graphic+\"/\"+Tipo_de_Cliente\n",
    "file_direct_Graphic_Canal_Material=file_direct_Graphic_Canal+'/'+Y_producto\n"
   ]
  },
  {
   "cell_type": "code",
   "execution_count": 2,
   "id": "673f755b",
   "metadata": {
    "hidden": true
   },
   "outputs": [],
   "source": [
    "#!jt -l\n",
    "#!jt -t oceans16 -T"
   ]
  },
  {
   "cell_type": "markdown",
   "id": "f80e374d",
   "metadata": {
    "hidden": true
   },
   "source": [
    "## Intalar paquetes, Abrir data y ajustarla "
   ]
  },
  {
   "cell_type": "markdown",
   "id": "6a7c4706",
   "metadata": {
    "hidden": true
   },
   "source": [
    "### import"
   ]
  },
  {
   "cell_type": "code",
   "execution_count": 3,
   "id": "0ea91ad7",
   "metadata": {
    "hidden": true
   },
   "outputs": [],
   "source": [
    "#=====================================================\n",
    "                # BASE \n",
    "#-----------------------------------------------------\n",
    "import pandas as pd\n",
    "import numpy as np\n",
    "import matplotlib.pyplot as plt\n",
    "\n",
    "#from geopandas import *\n",
    "\n",
    "from plotnine import *\n",
    "\n",
    "#para ajustar las fechas\n",
    "import datetime\n",
    "\n",
    "#para calcular el skew de un array() o list()\n",
    "from scipy.stats import skew "
   ]
  },
  {
   "cell_type": "code",
   "execution_count": 4,
   "id": "8916d4cd",
   "metadata": {
    "hidden": true
   },
   "outputs": [],
   "source": [
    "#=====================================================\n",
    "                # sklearn \n",
    "#-----------------------------------------------------\n",
    "\n",
    "#Separador de datos en train/test\n",
    "from sklearn.model_selection import train_test_split\n",
    "\n",
    "#Prediccion Ridge Regression\n",
    "from sklearn.linear_model import Ridge"
   ]
  },
  {
   "cell_type": "code",
   "execution_count": 5,
   "id": "8d82be85",
   "metadata": {
    "hidden": true
   },
   "outputs": [],
   "source": [
    "#=====================================================\n",
    "                # statsmodels \n",
    "#-----------------------------------------------------\n",
    "import statsmodels.api as sm\n",
    "import statsmodels.formula.api as smf\n",
    "from statsmodels.tools.sm_exceptions import ConvergenceWarning\n",
    "\n",
    "\n",
    "#from statsmodels.regression.mixed_linear_model import MixedLMResults\n",
    "# No se para qué sirve este"
   ]
  },
  {
   "cell_type": "code",
   "execution_count": 6,
   "id": "734ff701",
   "metadata": {
    "hidden": true
   },
   "outputs": [],
   "source": [
    "#====================================================\n",
    "#librerias para crear division de series temporales\n",
    "#====================================================\n",
    "\n",
    "from mizani.breaks import date_breaks\n",
    "from mizani.formatters import date_format"
   ]
  },
  {
   "cell_type": "code",
   "execution_count": 7,
   "id": "34160d20",
   "metadata": {
    "hidden": true
   },
   "outputs": [],
   "source": [
    "# stopwatch\n",
    "import time\n",
    "def time_convert(sec):\n",
    "  mins = sec // 60\n",
    "  sec = sec % 60\n",
    "  hours = mins // 60\n",
    "  mins = mins % 60\n",
    "  print(\"Time Lapsed = {0}:{1}:{2}\".format(int(hours),int(mins),sec),'\\n H:m:s')\n",
    "#==================================\n",
    "#          Example\n",
    "#    input(\"Press Enter to start\")\n",
    "#    start_time = time.time()\n",
    "#    input(\"Press Enter to stop\")\n",
    "#    end_time = time.time()\n",
    "#    time_lapsed = end_time - start_time\n",
    "#    time_convert(time_lapsed)\n",
    "#================================="
   ]
  },
  {
   "cell_type": "markdown",
   "id": "0e0194b5",
   "metadata": {
    "heading_collapsed": true,
    "hidden": true
   },
   "source": [
    "### Funciones \n",
    "```python\n",
    "#Mes_name\n",
    "data_i.Mes.apply(Mes_name)\n",
    "```\n",
    ">Transforma la columna mes numerica en el nombre del mes"
   ]
  },
  {
   "cell_type": "code",
   "execution_count": 8,
   "id": "ad8627c9",
   "metadata": {
    "hidden": true
   },
   "outputs": [],
   "source": [
    "#===================================\n",
    "# Dicionario MES\n",
    "#===================================\n",
    "\n",
    "#===================================\n",
    "# Fecha\n",
    "D=['Enero','Febrero','Marzo','Abril',\n",
    " 'Mayo','Junio','Julio','Agosto',\n",
    " 'Septiembre','Octubre',\n",
    " 'Noviembre','Diciembre']\n",
    "Month_dic={i:D[i-1]  for i in range(1,13)}\n",
    "#===========================================\n",
    "\n",
    "\n",
    "def Mes_name(x):\n",
    "    D=['Enero','Febrero','Marzo','Abril',\n",
    "    'Mayo','Junio','Julio','Agosto',\n",
    "    'Septiembre','Octubre',\n",
    "    'Noviembre','Diciembre']\n",
    "    return(D[int(x)-1])"
   ]
  },
  {
   "cell_type": "markdown",
   "id": "b8b67d6b",
   "metadata": {
    "hidden": true
   },
   "source": [
    "## Datos  \n",
    "Se cargan los datos de\n",
    "Ventas y la defincion de los productos\n",
    "Ventas está en `data_v` y despues pasa a ser `data`\n",
    "\n",
    "Productos estan cargados en `DF_products`\n"
   ]
  },
  {
   "cell_type": "markdown",
   "id": "7b6b6d72",
   "metadata": {
    "hidden": true
   },
   "source": [
    "###  DF_FULL"
   ]
  },
  {
   "cell_type": "code",
   "execution_count": 9,
   "id": "d3f89b2c",
   "metadata": {
    "hidden": true
   },
   "outputs": [
    {
     "data": {
      "text/html": [
       "<div>\n",
       "<style scoped>\n",
       "    .dataframe tbody tr th:only-of-type {\n",
       "        vertical-align: middle;\n",
       "    }\n",
       "\n",
       "    .dataframe tbody tr th {\n",
       "        vertical-align: top;\n",
       "    }\n",
       "\n",
       "    .dataframe thead th {\n",
       "        text-align: right;\n",
       "    }\n",
       "</style>\n",
       "<table border=\"1\" class=\"dataframe\">\n",
       "  <thead>\n",
       "    <tr style=\"text-align: right;\">\n",
       "      <th></th>\n",
       "      <th>Zona de ventas</th>\n",
       "      <th>Zona de ventas.1</th>\n",
       "      <th>Cliente</th>\n",
       "      <th>Cliente.1</th>\n",
       "      <th>Cliente - Local</th>\n",
       "      <th>Cliente - Local.1</th>\n",
       "      <th>Material</th>\n",
       "      <th>Día natural</th>\n",
       "      <th>Kilos Venta KG</th>\n",
       "      <th>Venta Neta</th>\n",
       "      <th>...</th>\n",
       "      <th>Tipo de material.1</th>\n",
       "      <th>Marca</th>\n",
       "      <th>Nivel 2</th>\n",
       "      <th>Granel/Envasado</th>\n",
       "      <th>Marinado</th>\n",
       "      <th>Nivel 3</th>\n",
       "      <th>Grupo artículos</th>\n",
       "      <th>Estado</th>\n",
       "      <th>Estandar</th>\n",
       "      <th>Envase</th>\n",
       "    </tr>\n",
       "  </thead>\n",
       "  <tbody>\n",
       "    <tr>\n",
       "      <th>0</th>\n",
       "      <td>Z001</td>\n",
       "      <td>Santiago</td>\n",
       "      <td>10003742</td>\n",
       "      <td>Ferrer Leiva Sonia</td>\n",
       "      <td>Ferrer Leiva Sonia</td>\n",
       "      <td>38458</td>\n",
       "      <td>1010077</td>\n",
       "      <td>2018-02-09</td>\n",
       "      <td>12.0</td>\n",
       "      <td>13685.0</td>\n",
       "      <td>...</td>\n",
       "      <td>Prod. Term.  Ave</td>\n",
       "      <td>SUPER POLLO (SP)</td>\n",
       "      <td>Trutro</td>\n",
       "      <td>GRANEL</td>\n",
       "      <td>MARINADO</td>\n",
       "      <td>Trutro Entero</td>\n",
       "      <td>01050</td>\n",
       "      <td>REFRIGERADO</td>\n",
       "      <td>PESO VARIABLE</td>\n",
       "      <td>NO CONGELADO</td>\n",
       "    </tr>\n",
       "  </tbody>\n",
       "</table>\n",
       "<p>1 rows × 40 columns</p>\n",
       "</div>"
      ],
      "text/plain": [
       "  Zona de ventas Zona de ventas.1   Cliente           Cliente.1  \\\n",
       "0           Z001         Santiago  10003742  Ferrer Leiva Sonia   \n",
       "\n",
       "      Cliente - Local Cliente - Local.1 Material Día natural Kilos Venta KG  \\\n",
       "0  Ferrer Leiva Sonia             38458  1010077  2018-02-09           12.0   \n",
       "\n",
       "  Venta Neta  ... Tipo de material.1             Marca Nivel 2  \\\n",
       "0    13685.0  ...   Prod. Term.  Ave  SUPER POLLO (SP)  Trutro   \n",
       "\n",
       "  Granel/Envasado  Marinado        Nivel 3 Grupo artículos       Estado  \\\n",
       "0          GRANEL  MARINADO  Trutro Entero           01050  REFRIGERADO   \n",
       "\n",
       "        Estandar        Envase  \n",
       "0  PESO VARIABLE  NO CONGELADO  \n",
       "\n",
       "[1 rows x 40 columns]"
      ]
     },
     "execution_count": 9,
     "metadata": {},
     "output_type": "execute_result"
    }
   ],
   "source": [
    "#======================================================================\n",
    "# Se Cargan los datos de ventas con las caracteristicas de los clientes\n",
    "#=====================================================================\n",
    "\n",
    "file_direct=file_direct_O+'Ventas_Full'+'.csv'\n",
    "col_names=pd.read_csv(file_direct,\n",
    "                      encoding=\"utf-8\",sep=\";\",nrows=0).columns\n",
    "\n",
    "types_dict = {col: str for col in list(col_names)}\n",
    "\n",
    "DF_FULL = pd.read_csv(file_direct,\n",
    "                   encoding=\"utf-8\",sep=\";\",dtype=types_dict)\n",
    "#elimina una columna en especifico\n",
    "#DF_FULL.drop('Año natural', inplace=True, axis=1)\n",
    "DF_FULL.head(1)"
   ]
  },
  {
   "cell_type": "markdown",
   "id": "50978acc",
   "metadata": {
    "hidden": true
   },
   "source": [
    "#### Funcion"
   ]
  },
  {
   "cell_type": "code",
   "execution_count": 10,
   "id": "d97d256e",
   "metadata": {
    "hidden": true
   },
   "outputs": [],
   "source": [
    "# =============================================================================\n",
    "# Ajustar la data\n",
    "# =============================================================================\n",
    "def Ajuste_data(data):\n",
    "    start_time = time.time()\n",
    "\n",
    "    df=data.copy()\n",
    "\n",
    "# =================================\n",
    "# ELiminare dodos los valores Nan\n",
    "# =================================\n",
    "    #for i in df.columns.to_list():\n",
    "    #    df=df[df[i].notna()]\n",
    "\n",
    "#=================================\n",
    "# Proceso iterativo Pasar a numero\n",
    "#=================================\n",
    "\n",
    "    for i in ['Kilos Venta KG','Venta Neta','Precio Promedio']:\n",
    "        df[i]=df[i].astype('float64').astype('int64')\n",
    "        \n",
    "#=================================\n",
    "# Agregar nombre al codigo del producto\n",
    "#=================================\n",
    "    def material_name(x):\n",
    "        s1=str(x['Material'])\n",
    "        s2=str(x['Nivel 4.1'])\n",
    "        return(s1+'('+s2+')')\n",
    "    df['Material (Nombre)']=df.apply(lambda x:  material_name(x), axis=1)\n",
    "    \n",
    "\n",
    "\n",
    "#==========================================================================================\n",
    "# Ajuste de las fechas\n",
    "#-----------------------------------------------------------------------------------------\n",
    "    df[\"Día natural\"] = df[\"Día natural\"].apply(lambda x: \n",
    "                                                datetime.datetime.strptime(str(x),\n",
    "                                                                           '%Y-%m-%d').date())\n",
    "    \n",
    "    #Separacion fecha\n",
    "    \n",
    "    #df['Semana']=df[\"Día natural\"].apply(lambda x: x.isocalendar()[1] )\n",
    "    #df['Mes']=df[\"Día natural\"].apply(lambda x: x.month)\n",
    "    #df['Año']=df[\"Día natural\"].apply(lambda x: x.year)\n",
    "    #df['Semana']=df['Semana'].astype('int64')\n",
    "    df['Año']=df['Año'].astype('int64')\n",
    "    D_W=['Lunes','Martes','Miércoles','Jueves', 'Viernes','Sábado','Domingo']\n",
    "    df['Día Semana']=df[\"Día natural\"].apply(lambda x: D_W[x.isocalendar()[2] -1])\n",
    "    df=df[df['Día Semana']!='Domingo']\n",
    "    \n",
    "    DF_FULL.dtypes\n",
    "    end_time = time.time()\n",
    "    time_convert(end_time - start_time)\n",
    "    return df"
   ]
  },
  {
   "cell_type": "markdown",
   "id": "ee2bcc68",
   "metadata": {
    "heading_collapsed": true,
    "hidden": true
   },
   "source": [
    "### Datos año de inicio\n",
    "#### Rename"
   ]
  },
  {
   "cell_type": "code",
   "execution_count": 11,
   "id": "d6ca58ea",
   "metadata": {
    "hidden": true,
    "scrolled": true
   },
   "outputs": [
    {
     "name": "stdout",
     "output_type": "stream",
     "text": [
      "Time Lapsed = 0:0:27.270703315734863 \n",
      " H:m:s\n"
     ]
    },
    {
     "data": {
      "text/plain": [
       "Zona de ventas          object\n",
       "Zona de ventas.1        object\n",
       "Cliente                 object\n",
       "Cliente.1               object\n",
       "Cliente - Local         object\n",
       "Cliente - Local.1       object\n",
       "Material                object\n",
       "Día natural             object\n",
       "Kilos Venta KG           int64\n",
       "Venta Neta               int64\n",
       "Precio                   int64\n",
       "Frecuencia Historica    object\n",
       "Centro                  object\n",
       "Centro.1                object\n",
       "Población               object\n",
       "Tipo de cliente         object\n",
       "Cluster                 object\n",
       "Segmento                object\n",
       "Segmento.1              object\n",
       "Categoría Cliente       object\n",
       "Zona de reparto         object\n",
       "Año Creación            object\n",
       "Material Favorito       object\n",
       "Semana                  object\n",
       "Mes                     object\n",
       "Año                      int64\n",
       "Nivel 4                 object\n",
       "Nivel 4.1               object\n",
       "Sector                  object\n",
       "Tipo de material        object\n",
       "Tipo de material.1      object\n",
       "Marca                   object\n",
       "Nivel 2                 object\n",
       "Granel/Envasado         object\n",
       "Marinado                object\n",
       "Nivel 3                 object\n",
       "Grupo artículos         object\n",
       "Estado                  object\n",
       "Estandar                object\n",
       "Envase                  object\n",
       "Material (Nombre)       object\n",
       "Día Semana              object\n",
       "dtype: object"
      ]
     },
     "execution_count": 11,
     "metadata": {},
     "output_type": "execute_result"
    }
   ],
   "source": [
    "#=====================================\n",
    "# Aplicacion del ajuste de los datos\n",
    "#=====================================\n",
    "\n",
    "data=Ajuste_data(DF_FULL).rename(\n",
    "    columns={'Precio Promedio':'Precio'})\n",
    "data[data.Año>=int(Año_inicio)]\n",
    "data.dtypes"
   ]
  },
  {
   "cell_type": "code",
   "execution_count": 12,
   "id": "20e9b364",
   "metadata": {
    "hidden": true,
    "scrolled": true
   },
   "outputs": [
    {
     "data": {
      "text/plain": [
       "-256"
      ]
     },
     "execution_count": 12,
     "metadata": {},
     "output_type": "execute_result"
    }
   ],
   "source": [
    "#=============================\n",
    "# Se eliminaron los regristros donde existen dias domingos\n",
    "#(No hay despacho los dias domingos)\n",
    "#============================\n",
    "\n",
    "data.shape[0] - DF_FULL.shape[0]"
   ]
  },
  {
   "cell_type": "markdown",
   "id": "79f8b061",
   "metadata": {
    "heading_collapsed": true
   },
   "source": [
    "# Selección data(Canal/material)\n",
    "data frame `data_i`\n",
    "\n",
    "\n",
    "> - Producto `i_producto = Y_producto`\n",
    "> -Para el Canal `Tipo_de_Cliente`\n",
    "> -Variable a predecir/Grafico `Y_Variable`\n",
    "\n",
    "Columnas de interes para predecir `X_col`\n",
    "\n",
    "Diccionario del grupo de columnas `Dic_col`"
   ]
  },
  {
   "cell_type": "markdown",
   "id": "56076fc8",
   "metadata": {
    "hidden": true
   },
   "source": [
    "## data "
   ]
  },
  {
   "cell_type": "code",
   "execution_count": 13,
   "id": "65ae6463",
   "metadata": {
    "hidden": true
   },
   "outputs": [],
   "source": [
    "#==============================\n",
    "# Se define el producto\n",
    "#==============================\n",
    "i_producto=Y_producto\n",
    "data_i=data[\n",
    "    (data['Tipo de cliente']==Tipo_de_Cliente)\n",
    "    &(data.Material==i_producto)\n",
    "].copy()\n"
   ]
  },
  {
   "cell_type": "markdown",
   "id": "3614f1ae",
   "metadata": {
    "heading_collapsed": true,
    "hidden": true
   },
   "source": [
    "### Columnas a usar \n",
    "rename aplicado a `Precio promedio`"
   ]
  },
  {
   "cell_type": "code",
   "execution_count": 14,
   "id": "be9ad327",
   "metadata": {
    "hidden": true,
    "scrolled": true
   },
   "outputs": [
    {
     "ename": "KeyError",
     "evalue": "\"['Precio Promedio'] not in index\"",
     "output_type": "error",
     "traceback": [
      "\u001b[1;31m---------------------------------------------------------------------------\u001b[0m",
      "\u001b[1;31mKeyError\u001b[0m                                  Traceback (most recent call last)",
      "\u001b[1;32m<ipython-input-14-1cca24555b63>\u001b[0m in \u001b[0;36m<module>\u001b[1;34m\u001b[0m\n\u001b[0;32m      3\u001b[0m \u001b[1;31m#========================================================================================================\u001b[0m\u001b[1;33m\u001b[0m\u001b[1;33m\u001b[0m\u001b[1;33m\u001b[0m\u001b[0m\n\u001b[0;32m      4\u001b[0m \u001b[1;33m\u001b[0m\u001b[0m\n\u001b[1;32m----> 5\u001b[1;33m data_i=data_i[[\n\u001b[0m\u001b[0;32m      6\u001b[0m                     \u001b[1;31m#======================================\u001b[0m\u001b[1;33m\u001b[0m\u001b[1;33m\u001b[0m\u001b[1;33m\u001b[0m\u001b[0m\n\u001b[0;32m      7\u001b[0m                                     \u001b[1;31m# Base de la venta\u001b[0m\u001b[1;33m\u001b[0m\u001b[1;33m\u001b[0m\u001b[1;33m\u001b[0m\u001b[0m\n",
      "\u001b[1;32m~\\anaconda3\\lib\\site-packages\\pandas\\core\\frame.py\u001b[0m in \u001b[0;36m__getitem__\u001b[1;34m(self, key)\u001b[0m\n\u001b[0;32m   3028\u001b[0m             \u001b[1;32mif\u001b[0m \u001b[0mis_iterator\u001b[0m\u001b[1;33m(\u001b[0m\u001b[0mkey\u001b[0m\u001b[1;33m)\u001b[0m\u001b[1;33m:\u001b[0m\u001b[1;33m\u001b[0m\u001b[1;33m\u001b[0m\u001b[0m\n\u001b[0;32m   3029\u001b[0m                 \u001b[0mkey\u001b[0m \u001b[1;33m=\u001b[0m \u001b[0mlist\u001b[0m\u001b[1;33m(\u001b[0m\u001b[0mkey\u001b[0m\u001b[1;33m)\u001b[0m\u001b[1;33m\u001b[0m\u001b[1;33m\u001b[0m\u001b[0m\n\u001b[1;32m-> 3030\u001b[1;33m             \u001b[0mindexer\u001b[0m \u001b[1;33m=\u001b[0m \u001b[0mself\u001b[0m\u001b[1;33m.\u001b[0m\u001b[0mloc\u001b[0m\u001b[1;33m.\u001b[0m\u001b[0m_get_listlike_indexer\u001b[0m\u001b[1;33m(\u001b[0m\u001b[0mkey\u001b[0m\u001b[1;33m,\u001b[0m \u001b[0maxis\u001b[0m\u001b[1;33m=\u001b[0m\u001b[1;36m1\u001b[0m\u001b[1;33m,\u001b[0m \u001b[0mraise_missing\u001b[0m\u001b[1;33m=\u001b[0m\u001b[1;32mTrue\u001b[0m\u001b[1;33m)\u001b[0m\u001b[1;33m[\u001b[0m\u001b[1;36m1\u001b[0m\u001b[1;33m]\u001b[0m\u001b[1;33m\u001b[0m\u001b[1;33m\u001b[0m\u001b[0m\n\u001b[0m\u001b[0;32m   3031\u001b[0m \u001b[1;33m\u001b[0m\u001b[0m\n\u001b[0;32m   3032\u001b[0m         \u001b[1;31m# take() does not accept boolean indexers\u001b[0m\u001b[1;33m\u001b[0m\u001b[1;33m\u001b[0m\u001b[1;33m\u001b[0m\u001b[0m\n",
      "\u001b[1;32m~\\anaconda3\\lib\\site-packages\\pandas\\core\\indexing.py\u001b[0m in \u001b[0;36m_get_listlike_indexer\u001b[1;34m(self, key, axis, raise_missing)\u001b[0m\n\u001b[0;32m   1264\u001b[0m             \u001b[0mkeyarr\u001b[0m\u001b[1;33m,\u001b[0m \u001b[0mindexer\u001b[0m\u001b[1;33m,\u001b[0m \u001b[0mnew_indexer\u001b[0m \u001b[1;33m=\u001b[0m \u001b[0max\u001b[0m\u001b[1;33m.\u001b[0m\u001b[0m_reindex_non_unique\u001b[0m\u001b[1;33m(\u001b[0m\u001b[0mkeyarr\u001b[0m\u001b[1;33m)\u001b[0m\u001b[1;33m\u001b[0m\u001b[1;33m\u001b[0m\u001b[0m\n\u001b[0;32m   1265\u001b[0m \u001b[1;33m\u001b[0m\u001b[0m\n\u001b[1;32m-> 1266\u001b[1;33m         \u001b[0mself\u001b[0m\u001b[1;33m.\u001b[0m\u001b[0m_validate_read_indexer\u001b[0m\u001b[1;33m(\u001b[0m\u001b[0mkeyarr\u001b[0m\u001b[1;33m,\u001b[0m \u001b[0mindexer\u001b[0m\u001b[1;33m,\u001b[0m \u001b[0maxis\u001b[0m\u001b[1;33m,\u001b[0m \u001b[0mraise_missing\u001b[0m\u001b[1;33m=\u001b[0m\u001b[0mraise_missing\u001b[0m\u001b[1;33m)\u001b[0m\u001b[1;33m\u001b[0m\u001b[1;33m\u001b[0m\u001b[0m\n\u001b[0m\u001b[0;32m   1267\u001b[0m         \u001b[1;32mreturn\u001b[0m \u001b[0mkeyarr\u001b[0m\u001b[1;33m,\u001b[0m \u001b[0mindexer\u001b[0m\u001b[1;33m\u001b[0m\u001b[1;33m\u001b[0m\u001b[0m\n\u001b[0;32m   1268\u001b[0m \u001b[1;33m\u001b[0m\u001b[0m\n",
      "\u001b[1;32m~\\anaconda3\\lib\\site-packages\\pandas\\core\\indexing.py\u001b[0m in \u001b[0;36m_validate_read_indexer\u001b[1;34m(self, key, indexer, axis, raise_missing)\u001b[0m\n\u001b[0;32m   1314\u001b[0m             \u001b[1;32mif\u001b[0m \u001b[0mraise_missing\u001b[0m\u001b[1;33m:\u001b[0m\u001b[1;33m\u001b[0m\u001b[1;33m\u001b[0m\u001b[0m\n\u001b[0;32m   1315\u001b[0m                 \u001b[0mnot_found\u001b[0m \u001b[1;33m=\u001b[0m \u001b[0mlist\u001b[0m\u001b[1;33m(\u001b[0m\u001b[0mset\u001b[0m\u001b[1;33m(\u001b[0m\u001b[0mkey\u001b[0m\u001b[1;33m)\u001b[0m \u001b[1;33m-\u001b[0m \u001b[0mset\u001b[0m\u001b[1;33m(\u001b[0m\u001b[0max\u001b[0m\u001b[1;33m)\u001b[0m\u001b[1;33m)\u001b[0m\u001b[1;33m\u001b[0m\u001b[1;33m\u001b[0m\u001b[0m\n\u001b[1;32m-> 1316\u001b[1;33m                 \u001b[1;32mraise\u001b[0m \u001b[0mKeyError\u001b[0m\u001b[1;33m(\u001b[0m\u001b[1;34mf\"{not_found} not in index\"\u001b[0m\u001b[1;33m)\u001b[0m\u001b[1;33m\u001b[0m\u001b[1;33m\u001b[0m\u001b[0m\n\u001b[0m\u001b[0;32m   1317\u001b[0m \u001b[1;33m\u001b[0m\u001b[0m\n\u001b[0;32m   1318\u001b[0m             \u001b[0mnot_found\u001b[0m \u001b[1;33m=\u001b[0m \u001b[0mkey\u001b[0m\u001b[1;33m[\u001b[0m\u001b[0mmissing_mask\u001b[0m\u001b[1;33m]\u001b[0m\u001b[1;33m\u001b[0m\u001b[1;33m\u001b[0m\u001b[0m\n",
      "\u001b[1;31mKeyError\u001b[0m: \"['Precio Promedio'] not in index\""
     ]
    }
   ],
   "source": [
    "#=======================================================================================================\n",
    "                                                # Columnas a usar\n",
    "#========================================================================================================\n",
    "\n",
    "data_i=data_i[[\n",
    "                    #======================================   \n",
    "                                    # Base de la venta\n",
    "                    #--------------------------------------\n",
    "\n",
    "'Material (Nombre)',\n",
    "    #ID Nombre\n",
    "    \n",
    "#========================\n",
    "#Cantidad/Ingreso/Precio\n",
    "#------------------------\n",
    "'Kilos Venta KG',\n",
    "#'Venta Neta', No es necesario o de interes para la prediccion\n",
    "'Precio Promedio',\n",
    "\n",
    "#========================\n",
    "#fecha\n",
    "#------------------------\n",
    "#'Día natural', #Se descarta por series de tiempo\n",
    "    # Ver si funciona\n",
    "\n",
    "'Día Semana',\n",
    "    #lun, Mart, Mier, Juev\n",
    "'Semana',\n",
    "    #1, 2 , 3 ,..., 52, 53\n",
    "'Mes',\n",
    "    #1,2,3,...,12\n",
    "'Año',\n",
    "    #2018,2019,...,2021\n",
    "    \n",
    "    \n",
    "\n",
    "#______________________________________________________________________\n",
    "                        \n",
    "                                    # CLIENTE\n",
    "    \n",
    "#=====================================\n",
    "#Ubicacion del cliente\n",
    "#-------------------------------------\n",
    "'Población', #'Zona de reparto',\n",
    "#Comuna del Cliente ; Codigo de la zona de reparto\n",
    "#[No son excluyentes, la Zona de reparto\n",
    "#Es más especifica y agrupa a clientes]\n",
    "\n",
    "\n",
    "                #Region\n",
    "                #'Zona de ventas',\n",
    "                #'Zona de ventas.1',\n",
    "                    #(Z001: Santiago)\n",
    "\n",
    "#Es atendido por la sucursal:\n",
    "'Centro.1', #'Centro', \n",
    "    #ID Sucursal, Nombre Sucursal(oficina o centro)\n",
    "    \n",
    "#=========================================    \n",
    "#Identificacion del cliente\n",
    "#---------------------------------------\n",
    "'Cliente', #'Cliente.1',\n",
    "     #ID del cliente , #nombre del cliente\n",
    " #'Cliente - Local', 'Cliente - Local.1'\n",
    "     # Tambien funciona como ID\n",
    "         #ID, Nombre\n",
    "\n",
    "    #Agrupacion del cliente\n",
    "    #'Tipo de cliente', #SON TODOS IGUALES\n",
    "    'Cluster', \n",
    "         #Canal del cliente ; Tipo de cliente\n",
    "             #Tradicional   ; Clasico\n",
    "\n",
    "    #Nivel de cobertura\n",
    "    #'Segmento', \n",
    "     'Segmento.1',\n",
    "     #codigo ; nombre\n",
    "         #50 ; Cobertura pequeno SD\n",
    "    'Categoría Cliente',\n",
    "            #Especialista en Proc\n",
    "\n",
    "\n",
    "    #===================================================\n",
    "    #Caracteristicas Adiocinales a su consumo\n",
    "    #-------------------------------------------------\n",
    "        'Año Creación',\n",
    "            #Fecha de afiliación a Agrosuper\n",
    "             #-> Debe ser INT idealmente\n",
    "\n",
    "        'Material Favorito',\n",
    "             #ID del producto que ha comprado más frecuentemente\n",
    "             #(No por cantidad, si no que por cantidad de compras realizadas)\n",
    "                 #-> Puede ser solo el codigo o el nombre tambien\n",
    "\n",
    "        'Frecuencia Historica',\n",
    "             #Cantidad de compras realizadas desde el 2018\n",
    "                 #-> debe ser INT\n",
    "                     #-> constante para todas las compras\n",
    "                            # Al ser variable complejiza todo\n",
    " \n",
    "]]\n",
    "data_i['Frecuencia Historica']=data_i['Frecuencia Historica'].astype('int64')\n",
    "data_i['Año Creación']=data_i['Año Creación'].astype('int64')"
   ]
  },
  {
   "cell_type": "code",
   "execution_count": null,
   "id": "b493f861",
   "metadata": {
    "hidden": true
   },
   "outputs": [],
   "source": [
    "\n",
    "print('Data Full',DF_FULL.shape)\n",
    "print(data.shape[0]-DF_FULL.shape[0],\n",
    "      data.shape[1]-DF_FULL.shape[1])\n",
    "print('Data Año',data.shape)\n",
    "print(data_i.shape[0]-data.shape[0],\n",
    "      data_i.shape[1]-data.shape[1])\n",
    "print('Data Año, Canal Producto',data_i.shape)"
   ]
  },
  {
   "cell_type": "code",
   "execution_count": null,
   "id": "a21c032d",
   "metadata": {
    "hidden": true,
    "scrolled": true
   },
   "outputs": [],
   "source": [
    "desc=data_i.describe(include='all').reset_index()\n",
    "desc[desc['index']=='unique']"
   ]
  },
  {
   "cell_type": "markdown",
   "id": "de023a7b",
   "metadata": {
    "hidden": true
   },
   "source": [
    "### Dicionario \n",
    "rename aplicado a `Precio promedio`"
   ]
  },
  {
   "cell_type": "code",
   "execution_count": null,
   "id": "74447145",
   "metadata": {
    "hidden": true
   },
   "outputs": [],
   "source": [
    "Dic_col={\n",
    "        'Fecha':\n",
    "                             ['Día Semana','Semana', 'Mes', 'Año'],\n",
    "        'Ubicacion':\n",
    "                             ['Población', 'Centro.1'],\n",
    "        'Cliente Categoria':\n",
    "                             ['Cluster','Segmento.1', 'Categoría Cliente'],\n",
    "        'Cliente Atributos':\n",
    "                             ['Año Creación', 'Material Favorito','Frecuencia Historica']\n",
    "         ,'Base':\n",
    "                             ['Material (Nombre)', 'Kilos Venta KG', 'Precio','Cliente']\n",
    "        }"
   ]
  },
  {
   "cell_type": "code",
   "execution_count": null,
   "id": "cb5cfbaf",
   "metadata": {
    "hidden": true,
    "scrolled": true
   },
   "outputs": [],
   "source": [
    "#List sirve para definir las columnas de interes para los datos\n",
    "list_=[]\n",
    "for i in Dic_col:\n",
    "    list_+=Dic_col[i]\n",
    "print(len(list_))"
   ]
  },
  {
   "cell_type": "markdown",
   "id": "8565bb08",
   "metadata": {
    "heading_collapsed": true,
    "hidden": true
   },
   "source": [
    "###### __Rename__"
   ]
  },
  {
   "cell_type": "markdown",
   "id": "f67d728f",
   "metadata": {
    "hidden": true,
    "scrolled": true
   },
   "source": [
    "```python\n",
    "#data_i[Dic_col['Base']]\n",
    "data_i.rename(\n",
    "    columns={'Precio Promedio':'Precio'}, errors=\"raise\")\n",
    "data_i[Dic_col['Base']]\n",
    "```"
   ]
  },
  {
   "cell_type": "markdown",
   "id": "54cdbed4",
   "metadata": {},
   "source": [
    "# Variacion precio mes\n",
    "Material Precios y volumen por venta\n",
    "\n",
    "\n",
    "__Boxplot__ mensuales y semanales, con los diferentes años, de esta forma se superponen los años en un mismo mes \n",
    "\n",
    "\n",
    "Se estan usando todos los datos para estos graficos "
   ]
  },
  {
   "cell_type": "markdown",
   "id": "bfd9f36f",
   "metadata": {},
   "source": [
    "## Grafico "
   ]
  },
  {
   "cell_type": "markdown",
   "id": "358ac83b",
   "metadata": {
    "heading_collapsed": true
   },
   "source": [
    "##### Función Graficos\n",
    "\n",
    "`custom_date_format1` define los meses en un rango enumerado, para el eje X\n",
    "`Mes_name` Entrega el nombre del mes, cuando se entrega el numero"
   ]
  },
  {
   "cell_type": "code",
   "execution_count": 25,
   "id": "8578d02b",
   "metadata": {
    "hidden": true
   },
   "outputs": [],
   "source": [
    "i=Y_producto\n",
    "T_i=Tipo_de_Cliente"
   ]
  },
  {
   "cell_type": "code",
   "execution_count": 26,
   "id": "8c6d891d",
   "metadata": {
    "hidden": true
   },
   "outputs": [],
   "source": [
    "\n",
    "def custom_date_format1(breaks):\n",
    "    \"\"\"\n",
    "    Function to format the date\n",
    "    \"\"\"\n",
    "    D=['Enero','Febrero','Marzo','Abril',\n",
    "    'Mayo','Junio','Julio','Agosto',\n",
    "    'Septiembre','Octubre',\n",
    "    'Noviembre','Diciembre']\n",
    "    Month_dic={i:D[i-1]  for i in range(1,13)}\n",
    "    return [Month_dic[x.month] if  x.day==1 else \"\" for x in breaks]\n",
    "\n",
    "\n",
    "def Mes_name(x):\n",
    "    D=['Enero','Febrero','Marzo','Abril',\n",
    "    'Mayo','Junio','Julio','Agosto',\n",
    "    'Septiembre','Octubre',\n",
    "    'Noviembre','Diciembre']\n",
    "    return(D[int(x)-1])\n"
   ]
  },
  {
   "cell_type": "markdown",
   "id": "30143724",
   "metadata": {},
   "source": [
    "### KG mensual "
   ]
  },
  {
   "cell_type": "markdown",
   "id": "b8bdb6e4",
   "metadata": {
    "heading_collapsed": true
   },
   "source": [
    "###### Data Grafico \n",
    "`df Material=i & Canal = T_i`\n",
    "`Año categorico, mes name`"
   ]
  },
  {
   "cell_type": "code",
   "execution_count": 27,
   "id": "17e9c090",
   "metadata": {
    "hidden": true
   },
   "outputs": [
    {
     "data": {
      "text/plain": [
       "'\\ndf[\\'Mes_num\\']=df[\"Mes\"]#.apply(lambda x: Mes_name(x))\\ndf[\\'Mes\\']=df[\"Mes_num\"].apply(lambda x: Mes_name(x))\\ndf[[\\'Mes\\',\\'Mes_num\\',\\'Día natural\\']].head()\\n'"
      ]
     },
     "execution_count": 27,
     "metadata": {},
     "output_type": "execute_result"
    }
   ],
   "source": [
    "#======================================\n",
    "# Kilos de venta\n",
    "#======================================\n",
    "df=data.loc[(data['Material']==i) &\n",
    "                    (data['Tipo de cliente']==T_i) &\n",
    "                                 ].copy()#data\n",
    "\n",
    "df.Año=df.Año.astype('category')\n",
    "df.Año.dtype\n",
    "\"\"\"\n",
    "df['Mes_num']=df[\"Mes\"]#.apply(lambda x: Mes_name(x))\n",
    "df['Mes']=df[\"Mes_num\"].apply(lambda x: Mes_name(x))\n",
    "df[['Mes','Mes_num','Día natural']].head()\n",
    "\"\"\""
   ]
  },
  {
   "cell_type": "markdown",
   "id": "83c67b87",
   "metadata": {
    "heading_collapsed": true
   },
   "source": [
    "##### Grafico "
   ]
  },
  {
   "cell_type": "markdown",
   "id": "df7183e6",
   "metadata": {
    "heading_collapsed": true,
    "hidden": true
   },
   "source": [
    "###### Grafico Codigo "
   ]
  },
  {
   "cell_type": "code",
   "execution_count": 28,
   "id": "eaa8247d",
   "metadata": {
    "hidden": true
   },
   "outputs": [
    {
     "name": "stdout",
     "output_type": "stream",
     "text": [
      "Tradicional\n",
      "1010078 Trutro Entero Selección\n"
     ]
    }
   ],
   "source": [
    "\n",
    "s=df[df.Material==i]['Nivel 4.1'].unique()[0]\n",
    "Y_Graph='Kilos Venta KG'\n",
    "\n",
    "print(T_i)\n",
    "print(i,s)\n",
    "\n",
    "Graph_KG_mes=(\n",
    "    ggplot(\n",
    "        df[(df['Kilos Venta KG']<1000)]\n",
    "        ,aes(\n",
    "            x=df[\"Mes\"].apply(lambda x: Mes_name(x) ),\n",
    "            y= Y_Graph ,\n",
    "            color='Año' ))\\\n",
    "    + geom_boxplot()\n",
    "      #+scale_x_datetime(breaks=date_breaks('1 month') ,labels=custom_date_format1)\n",
    "\n",
    "        +ggtitle('El Poducto de estudio es '+i+' ('+s+')'+ ' Sobre el canal '+ T_i\n",
    "                     +'\\n Variacion del '+Y_Graph + ' Mensual'\n",
    "                     )\n",
    "     +theme(axis_text_x = element_text(hjust=1),figure_size=(15,8)) \n",
    "     + scale_x_discrete(limits= ['Enero','Febrero','Marzo','Abril',\n",
    "    'Mayo','Junio','Julio','Agosto',\n",
    "    'Septiembre','Octubre',\n",
    "    'Noviembre','Diciembre'])\n",
    ")\n"
   ]
  },
  {
   "cell_type": "markdown",
   "id": "67a456b3",
   "metadata": {
    "heading_collapsed": true,
    "hidden": true
   },
   "source": [
    "###### Grafico plot "
   ]
  },
  {
   "cell_type": "code",
   "execution_count": 29,
   "id": "333fb0d4",
   "metadata": {
    "hidden": true
   },
   "outputs": [
    {
     "data": {
      "image/png": "[encoded data removed]",
      "text/plain": [
       "<Figure size 1500x800 with 1 Axes>"
      ]
     },
     "metadata": {},
     "output_type": "display_data"
    },
    {
     "data": {
      "text/plain": [
       "<ggplot: (131605821700)>"
      ]
     },
     "execution_count": 29,
     "metadata": {},
     "output_type": "execute_result"
    }
   ],
   "source": [
    "Graph_KG_mes"
   ]
  },
  {
   "cell_type": "code",
   "execution_count": null,
   "id": "4a10832e",
   "metadata": {
    "hidden": true
   },
   "outputs": [],
   "source": [
    "#======================================\n",
    "# Kilos de venta Iterativo\n",
    "#======================================\n",
    "\n",
    "\n",
    "#======================================\n",
    "# Kilos de venta Iterativo\n",
    "#======================================\n",
    "Y_Graph='Kilos Venta KG'\n",
    "\n",
    "list_Graph_KG_mes=[]\n",
    "for T_i in data['Tipo de cliente'].unique():\n",
    "    print(T_i)\n",
    "    for i in data.Material.unique():\n",
    "        # Dataframe\n",
    "        df=data.loc[(data['Material']==i) &\n",
    "                            (data['Tipo de cliente']==T_i) &\n",
    "                           (data['Kilos Venta KG']<1000)\n",
    "                      ].copy()#data\n",
    "        # Nombre del producto\n",
    "        s=df[df.Material==i]['Nivel 4.1'].unique()[0]\n",
    "\n",
    "    \n",
    "        print(i,s)\n",
    "        \n",
    "        # Grafico\n",
    "        list_Graph_KG_mes.append(ggplot(df\n",
    "                ,aes(\n",
    "                    x=df[\"Mes\"].apply(lambda x: Mes_name(x) ),\n",
    "                    y= Y_Graph ,\n",
    "                    color='Año' ))\\\n",
    "            + geom_boxplot()\n",
    "              #+scale_x_datetime(breaks=date_breaks('1 month') ,labels=custom_date_format1)\n",
    "\n",
    "             +ggtitle('El Poducto de estudio es '+i+' ('+s+')'+ ' Sobre el canal '+ T_i\n",
    "                     +'\\n Variacion del '+Y_Graph + ' Mensual'\n",
    "                     )\n",
    "             +theme(axis_text_x = element_text(#angle=90,\n",
    "                                               hjust=1),figure_size=(15,8))\n",
    "             + scale_x_discrete(\n",
    "                        limits= ['Enero','Febrero','Marzo','Abril',\n",
    "                                'Mayo','Junio','Julio','Agosto',\n",
    "                                'Septiembre','Octubre',\n",
    "                                'Noviembre','Diciembre'])\n",
    "        )"
   ]
  },
  {
   "cell_type": "markdown",
   "id": "b21d1ee2",
   "metadata": {
    "heading_collapsed": true
   },
   "source": [
    "#### PDF save"
   ]
  },
  {
   "cell_type": "markdown",
   "id": "e44f038f",
   "metadata": {
    "hidden": true
   },
   "source": [
    "```python\n",
    "#============================\n",
    "# Se guardan variaciones lineales\n",
    "#============================\n",
    "start_time = time.time()\n",
    "save_as_pdf_pages(list_Graph_KG_mes\n",
    "                  ,file_direct_Graphic+'/'+Y_producto+\"/Boxplot Mensual Kilos Venta.pdf\")\n",
    "time_convert(time.time()-start_time)\n",
    "```"
   ]
  },
  {
   "cell_type": "markdown",
   "id": "8e1da987",
   "metadata": {
    "heading_collapsed": true
   },
   "source": [
    "### Precio mensual "
   ]
  },
  {
   "cell_type": "code",
   "execution_count": null,
   "id": "be8c5c36",
   "metadata": {
    "hidden": true
   },
   "outputs": [],
   "source": [
    "#======================================\n",
    "# Precio de venta Iterativo\n",
    "#======================================\n",
    "\n",
    "#----------------------------------------\n",
    "# funcion que define los quiebres\n",
    "#--------------------------------------------------------------------\n",
    "\n",
    "\n",
    "\n",
    "#======================================\n",
    "# Precio de venta Iterativo\n",
    "#======================================\n",
    "Y_Graph='Precio Promedio'\n",
    "\n",
    "list_Graph_precio_mes=[]\n",
    "for T_i in data['Tipo de cliente'].unique():\n",
    "    print(T_i)\n",
    "    for i in data.Material.unique():\n",
    "        # Dataframe\n",
    "        df=data.loc[(data['Material']==i) &\n",
    "                            (data['Tipo de cliente']==T_i)\n",
    "                      ].copy()#data\n",
    "        # Nombre del producto\n",
    "        s=df[df.Material==i]['Nivel 4.1'].unique()[0]\n",
    "\n",
    "        \n",
    "        print(i,s)\n",
    "        \n",
    "        #-------------------------------------------------\n",
    "        # Grafico\n",
    "        list_Graph_precio_mes.append(ggplot(df\n",
    "                ,aes(\n",
    "                    x=df[\"Mes\"].apply(lambda x: Mes_name(x) ),\n",
    "                    y= Y_Graph ,color='Año' ))\\\n",
    "            + geom_boxplot()\n",
    "              #+scale_x_datetime(breaks=date_breaks('1 month') ,labels=custom_date_format1)\n",
    "\n",
    "             +ggtitle('El Poducto de estudio es '+i+' ('+s+')'+ ' Sobre el canal '+ T_i\n",
    "                     +'\\n Variacion del '+Y_Graph + ' Mensual'\n",
    "                     )\n",
    "             +theme(axis_text_x = element_text(#angle=90,\n",
    "                                               hjust=1),figure_size=(15,8))\n",
    "                + scale_x_discrete(\n",
    "                        limits= \n",
    "                        ['Enero','Febrero','Marzo','Abril',\n",
    "                        'Mayo','Junio','Julio','Agosto',\n",
    "                        'Septiembre','Octubre',\n",
    "                        'Noviembre','Diciembre'])\n",
    "        )"
   ]
  },
  {
   "cell_type": "code",
   "execution_count": null,
   "id": "bd340487",
   "metadata": {
    "hidden": true
   },
   "outputs": [],
   "source": [
    "list_Graph_precio_mes"
   ]
  },
  {
   "cell_type": "markdown",
   "id": "6ceb0369",
   "metadata": {
    "heading_collapsed": true,
    "hidden": true
   },
   "source": [
    "#### PDF save"
   ]
  },
  {
   "cell_type": "code",
   "execution_count": null,
   "id": "26b16acf",
   "metadata": {
    "hidden": true
   },
   "outputs": [],
   "source": [
    "#============================\n",
    "# Se guardan variaciones lineales\n",
    "#============================\n",
    "start_time = time.time()\n",
    "save_as_pdf_pages(list_Graph_precio_mes\n",
    "                  ,file_direct_Graphic+'/'+Y_producto+\"/Boxplot Mensual Precio promedio.pdf\")\n",
    "time_convert(time.time()-start_time)"
   ]
  },
  {
   "cell_type": "markdown",
   "id": "edf5e43f",
   "metadata": {
    "heading_collapsed": true
   },
   "source": [
    "### Semanal "
   ]
  },
  {
   "cell_type": "code",
   "execution_count": null,
   "id": "8f241ada",
   "metadata": {
    "hidden": true
   },
   "outputs": [],
   "source": [
    "#======================================\n",
    "# Una iteracion\n",
    "#======================================\n",
    "\n",
    "i=Y_producto\n",
    "T_i=Tipo_de_Cliente\n",
    "\n",
    "Y_Graph='Precio Promedio'\n",
    "\n",
    "def Mes_name(x):\n",
    "    D=['Enero','Febrero','Marzo','Abril',\n",
    "    'Mayo','Junio','Julio','Agosto',\n",
    "    'Septiembre','Octubre',\n",
    "    'Noviembre','Diciembre']\n",
    "    return(D[int(x)-1])\n",
    "\n",
    "\n",
    "#=============================\n",
    "# Data\n",
    "#=============================\n",
    "df=data.loc[(data['Material']==i) &\n",
    "                    (data['Tipo de cliente']==T_i) \n",
    "               #&(data['Kilos Venta KG']<1000)\n",
    "              ].copy()#data\n",
    "#df.head()\n",
    "\n",
    "\"\"\"\n",
    "df['Mes_num']=df[\"Mes\"]#.apply(lambda x: Mes_name(x))\n",
    "df['Mes']=df[\"Mes_num\"].apply(lambda x: Mes_name(x))\n",
    "df[['Mes','Mes_num','Día natural']].head()\n",
    "\"\"\"\n",
    "df.Semana=df['Semana'].astype('category')\n",
    "df.Mes=df.Mes.apply(Mes_name) \n",
    "\n",
    "s=df[df.Material==i]['Nivel 4.1'].unique()[0]\n",
    "\n",
    "print(T_i)\n",
    "print(i,s)\n",
    "\n",
    "Graph=(ggplot(df\n",
    "        ,aes(\n",
    "            x='Semana',#.astype('category'),\n",
    "            y= Y_Graph \n",
    "            ,color='Mes'\n",
    "        ))\\\n",
    "    + geom_boxplot()\n",
    "      #+scale_x_datetime(breaks=date_breaks('1 month') ,labels=custom_date_format1)\n",
    "\n",
    "     +ggtitle('El Poducto de estudio es '+Y_producto+' Sobre el canal '+ Tipo_de_Cliente\n",
    "             +'\\n Variacion del '+Y_Graph + ' Semanal'\n",
    "             )\n",
    "     +theme(axis_text_x = element_text(#angle=90,\n",
    "                                       hjust=1),figure_size=(25,8))\n",
    "     +facet_grid('Año~.')\n",
    ")\n"
   ]
  },
  {
   "cell_type": "code",
   "execution_count": null,
   "id": "1bd7aa2e",
   "metadata": {
    "hidden": true
   },
   "outputs": [],
   "source": [
    "Graph"
   ]
  },
  {
   "cell_type": "markdown",
   "id": "50832237",
   "metadata": {
    "heading_collapsed": true,
    "hidden": true
   },
   "source": [
    "#### Iter"
   ]
  },
  {
   "cell_type": "code",
   "execution_count": null,
   "id": "b5765726",
   "metadata": {
    "hidden": true
   },
   "outputs": [],
   "source": [
    "#======================================\n",
    "# Una iteracion\n",
    "#======================================\n",
    "\"\"\"\n",
    "i=Y_producto\n",
    "T_i=Tipo_de_Cliente\n",
    "\"\"\"\n",
    "Y_Graph='Precio Promedio'\n",
    "\n",
    "def Mes_name(x):\n",
    "    D=['Enero','Febrero','Marzo','Abril',\n",
    "    'Mayo','Junio','Julio','Agosto',\n",
    "    'Septiembre','Octubre',\n",
    "    'Noviembre','Diciembre']\n",
    "    return(D[int(x)-1])\n",
    "\n",
    "\n",
    "List_boxplor_week=[]\n",
    "for T_i in data['Tipo de cliente'].unique():\n",
    "    print( ''.join(['-' for j in range(1,20)]))\n",
    "    print(T_i)\n",
    "    for i in data.Material.unique():\n",
    "        #=============================\n",
    "        # Data\n",
    "        #=============================\n",
    "        df=data.loc[(data['Material']==i) &\n",
    "                            (data['Tipo de cliente']==T_i) \n",
    "                       #&(data['Kilos Venta KG']<1000)\n",
    "                      ].copy()#data\n",
    "\n",
    "        df.Semana=df['Semana'].astype('category')\n",
    "        df.Mes=df.Mes.apply(Mes_name) \n",
    "\n",
    "        s=df[df.Material==i]['Nivel 4.1'].unique()[0]\n",
    "\n",
    "        print(i,s)\n",
    "\n",
    "        List_boxplor_week.append(ggplot(df\n",
    "                ,aes(\n",
    "                    x='Semana',#.astype('category'),\n",
    "                    y= Y_Graph \n",
    "                    ,color='Mes'\n",
    "                ))\\\n",
    "            + geom_boxplot()\n",
    "              #+scale_x_datetime(breaks=date_breaks('1 month') ,labels=custom_date_format1)\n",
    "\n",
    "             +ggtitle('El Poducto de estudio es '+i+' Sobre el canal '+ T_i\n",
    "                     +'\\n Variacion del '+Y_Graph + ' Semanal'\n",
    "                     )\n",
    "             +theme(axis_text_x = element_text(#angle=90,\n",
    "                                               hjust=1),figure_size=(25,8))\n",
    "             +facet_grid('Año~.')\n",
    "        )\n"
   ]
  },
  {
   "cell_type": "markdown",
   "id": "b2f03418",
   "metadata": {
    "heading_collapsed": true,
    "hidden": true
   },
   "source": [
    "#### PDF save"
   ]
  },
  {
   "cell_type": "markdown",
   "id": "4729640b",
   "metadata": {
    "hidden": true
   },
   "source": [
    "```python\n",
    "#============================\n",
    "# Se guardan variaciones lineales\n",
    "#============================\n",
    "start_time = time.time()\n",
    "save_as_pdf_pages(List_boxplor_week\n",
    "                  ,file_direct_Graphic+'/'+Y_producto+\"/Boxplot Semanal Precio promedio.pdf\")\n",
    "time_convert(time.time()-start_time)\n",
    "```"
   ]
  },
  {
   "cell_type": "markdown",
   "id": "5a129686",
   "metadata": {
    "heading_collapsed": true
   },
   "source": [
    "# Precio volumen \n",
    "\n",
    "Como son graficos de dispersion, puede que no sea conveniente evualuar a cada uno de los canales, por lo cual se procede a atacar al canal tradicional."
   ]
  },
  {
   "cell_type": "code",
   "execution_count": null,
   "id": "3d99014f",
   "metadata": {
    "hidden": true
   },
   "outputs": [],
   "source": [
    "df=data[data.Material== Y_producto]\\\n",
    ".copy()\n"
   ]
  },
  {
   "cell_type": "code",
   "execution_count": null,
   "id": "0a518a8f",
   "metadata": {
    "hidden": true
   },
   "outputs": [],
   "source": [
    "df_group_kg = (\n",
    "    DF_Full\\\n",
    "[['Cliente','Material Nombre','Tipo de cliente',\n",
    "  'Kilos Venta KG' ,'Precio Promedio'\n",
    "  ]]\\\n",
    ".groupby(['Tipo de cliente','Cliente']\n",
    "                      ).mean().reset_index()\n",
    ")\n",
    "\n",
    "df_group_kg.groupby(['Tipo de cliente']).describe().reset_index()\n",
    "b"
   ]
  },
  {
   "cell_type": "code",
   "execution_count": null,
   "id": "e25e7563",
   "metadata": {
    "hidden": true
   },
   "outputs": [],
   "source": [
    "p=ggplot(\n",
    "    df_group_kg\n",
    "        ,aes(\n",
    "            x='Kilos Venta KG',\n",
    "            y= 'Precio Promedio'\n",
    "            ,color='Tipo de cliente'\n",
    "        ))\\\n",
    "    + geom_point(alpha=0.6)\n"
   ]
  },
  {
   "cell_type": "markdown",
   "id": "941e2b83",
   "metadata": {
    "heading_collapsed": true,
    "hidden": true
   },
   "source": [
    "### Png Save\n"
   ]
  },
  {
   "cell_type": "markdown",
   "id": "db2fabbb",
   "metadata": {
    "hidden": true
   },
   "source": [
    "```python\n",
    "ggsave(filename = None, plot = None, device = None, format = None,\n",
    "               path = None, scale = 1, width = None, height = None, units = \"in\",\n",
    "               dpi = 300, limitsize=True, **kwargs)\n",
    "```"
   ]
  },
  {
   "cell_type": "code",
   "execution_count": null,
   "id": "d0b8029b",
   "metadata": {
    "hidden": true
   },
   "outputs": [],
   "source": [
    "file_name='Dispersión precios Volumen'\n",
    "ggsave(plot = p,\n",
    "       filename = file_name, \n",
    "       path =file_direct_Graphic+'/'+Y_producto\n",
    "      ,dpi = 300\n",
    "      )\n"
   ]
  }
 ],
 "metadata": {
  "kernelspec": {
   "display_name": "Python 3",
   "language": "python",
   "name": "python3"
  },
  "language_info": {
   "codemirror_mode": {
    "name": "ipython",
    "version": 3
   },
   "file_extension": ".py",
   "mimetype": "text/x-python",
   "name": "python",
   "nbconvert_exporter": "python",
   "pygments_lexer": "ipython3",
   "version": "3.8.8"
  },
  "toc": {
   "base_numbering": 1,
   "nav_menu": {},
   "number_sections": true,
   "sideBar": true,
   "skip_h1_title": false,
   "title_cell": "Table of Contents",
   "title_sidebar": "Contents",
   "toc_cell": false,
   "toc_position": {
    "height": "calc(100% - 180px)",
    "left": "10px",
    "top": "150px",
    "width": "304.538px"
   },
   "toc_section_display": true,
   "toc_window_display": true
  }
 },
 "nbformat": 4,
 "nbformat_minor": 5
}
